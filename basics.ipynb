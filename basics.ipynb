{
 "cells": [
  {
   "cell_type": "markdown",
   "id": "a1f1bf36-9d6d-4154-bbaa-d79b2483e5bd",
   "metadata": {},
   "source": [
    "LISTS"
   ]
  },
  {
   "cell_type": "code",
   "execution_count": 2,
   "id": "b7fe0aaa-2a49-4088-a239-a448cbee4830",
   "metadata": {
    "tags": []
   },
   "outputs": [
    {
     "name": "stdout",
     "output_type": "stream",
     "text": [
      "6\n"
     ]
    }
   ],
   "source": [
    "#define a list\n",
    "\n",
    "x = [1,2,3,4,5,6]\n",
    "print(len(x))      #Prints the length of the given list"
   ]
  },
  {
   "cell_type": "code",
   "execution_count": 4,
   "id": "dd6e8753-ee6e-4c6a-8954-b6f9833b37e4",
   "metadata": {
    "tags": []
   },
   "outputs": [
    {
     "data": {
      "text/plain": [
       "[1, 2, 3]"
      ]
     },
     "execution_count": 4,
     "metadata": {},
     "output_type": "execute_result"
    }
   ],
   "source": [
    "x[:3]  #Slicing"
   ]
  },
  {
   "cell_type": "code",
   "execution_count": 6,
   "id": "d2f48ab6-9ca8-4d54-bc81-7d0eaca496be",
   "metadata": {
    "tags": []
   },
   "outputs": [
    {
     "data": {
      "text/plain": [
       "[5, 6]"
      ]
     },
     "execution_count": 6,
     "metadata": {},
     "output_type": "execute_result"
    }
   ],
   "source": [
    "x [-2:]"
   ]
  },
  {
   "cell_type": "code",
   "execution_count": 10,
   "id": "02497cdc-6402-4a72-9627-1f51e5982c01",
   "metadata": {
    "tags": []
   },
   "outputs": [
    {
     "data": {
      "text/plain": [
       "[1, 2, 3, 4, 5, 6, 7, 8, 7, 8]"
      ]
     },
     "execution_count": 10,
     "metadata": {},
     "output_type": "execute_result"
    }
   ],
   "source": [
    "x.extend([7,8])   #Append a list to another list\n",
    "x"
   ]
  },
  {
   "cell_type": "code",
   "execution_count": 12,
   "id": "81e6660e-c870-4672-bfc7-7733140a8768",
   "metadata": {
    "tags": []
   },
   "outputs": [
    {
     "data": {
      "text/plain": [
       "[1, 2, 3, 4, 5, 6, 7, 8, 7, 8, 9]"
      ]
     },
     "execution_count": 12,
     "metadata": {},
     "output_type": "execute_result"
    }
   ],
   "source": [
    "x.append(9)  \n",
    "x"
   ]
  },
  {
   "cell_type": "code",
   "execution_count": 14,
   "id": "87399243-eda5-4584-9986-7b61aef8ac3c",
   "metadata": {
    "tags": []
   },
   "outputs": [
    {
     "data": {
      "text/plain": [
       "[[1, 2, 3, 4, 5, 6, 7, 8, 7, 8, 9], [10, 11, 12]]"
      ]
     },
     "execution_count": 14,
     "metadata": {},
     "output_type": "execute_result"
    }
   ],
   "source": [
    "y = [10,11,12]\n",
    "\n",
    "listOfLists = [x,y]\n",
    "listOfLists"
   ]
  },
  {
   "cell_type": "code",
   "execution_count": 20,
   "id": "ddd7c02d-ad59-475a-9c26-1100e53cdd17",
   "metadata": {
    "tags": []
   },
   "outputs": [
    {
     "data": {
      "text/plain": [
       "11"
      ]
     },
     "execution_count": 20,
     "metadata": {},
     "output_type": "execute_result"
    }
   ],
   "source": [
    "y[1]"
   ]
  },
  {
   "cell_type": "code",
   "execution_count": 22,
   "id": "584e9b43-6fba-45c3-af8d-7203c176dcdc",
   "metadata": {
    "tags": []
   },
   "outputs": [
    {
     "data": {
      "text/plain": [
       "[1, 2, 3]"
      ]
     },
     "execution_count": 22,
     "metadata": {},
     "output_type": "execute_result"
    }
   ],
   "source": [
    "z = [3,2,1]\n",
    "z.sort()\n",
    "z"
   ]
  },
  {
   "cell_type": "code",
   "execution_count": 24,
   "id": "61c161bb-a06f-4fcb-a3b8-5c162e3c78ee",
   "metadata": {
    "tags": []
   },
   "outputs": [
    {
     "data": {
      "text/plain": [
       "[3, 2, 1]"
      ]
     },
     "execution_count": 24,
     "metadata": {},
     "output_type": "execute_result"
    }
   ],
   "source": [
    "z.sort(reverse = True)\n",
    "z"
   ]
  },
  {
   "cell_type": "code",
   "execution_count": 38,
   "id": "2e0e62f8-dfcb-476d-9a77-c4048178bd0d",
   "metadata": {
    "tags": []
   },
   "outputs": [
    {
     "data": {
      "text/plain": [
       "[1, 2, 'abc', 0]"
      ]
     },
     "execution_count": 38,
     "metadata": {},
     "output_type": "execute_result"
    }
   ],
   "source": [
    "list1 = [1,2,'abc',0]\n",
    "list1"
   ]
  },
  {
   "cell_type": "code",
   "execution_count": 42,
   "id": "4d48eb2e-ca63-4aba-b675-ae929a5f9df1",
   "metadata": {
    "tags": []
   },
   "outputs": [
    {
     "name": "stdout",
     "output_type": "stream",
     "text": [
      "<class 'list'>\n"
     ]
    }
   ],
   "source": [
    "print(type(list1))"
   ]
  },
  {
   "cell_type": "code",
   "execution_count": 44,
   "id": "f1b8d560-de13-4f3d-9e41-60fa4e4f6f79",
   "metadata": {
    "tags": []
   },
   "outputs": [
    {
     "data": {
      "text/plain": [
       "['abc', 1, 'def', 'cherry']"
      ]
     },
     "execution_count": 44,
     "metadata": {},
     "output_type": "execute_result"
    }
   ],
   "source": [
    "# Creating a list using list() constructor\n",
    "\n",
    "thisList = list((\"abc\",1,\"def\",\"cherry\"))\n",
    "thisList"
   ]
  },
  {
   "cell_type": "code",
   "execution_count": 46,
   "id": "04bf8995-3094-4d15-ac33-8990fc4ec1ac",
   "metadata": {
    "tags": []
   },
   "outputs": [
    {
     "data": {
      "text/plain": [
       "['abc', 1, 'Banana', 'def', 'cherry']"
      ]
     },
     "execution_count": 46,
     "metadata": {},
     "output_type": "execute_result"
    }
   ],
   "source": [
    "thisList.insert(2, \"Banana\")\n",
    "thisList"
   ]
  },
  {
   "cell_type": "code",
   "execution_count": 48,
   "id": "275d6f74-5786-4fe9-ba15-632a7b439458",
   "metadata": {
    "tags": []
   },
   "outputs": [
    {
     "data": {
      "text/plain": [
       "['abc', 1, 'def', 'cherry']"
      ]
     },
     "execution_count": 48,
     "metadata": {},
     "output_type": "execute_result"
    }
   ],
   "source": [
    "thisList.remove(\"Banana\")\n",
    "thisList"
   ]
  },
  {
   "cell_type": "markdown",
   "id": "549ae95b-b483-4420-99c5-407cc2db0f2e",
   "metadata": {},
   "source": [
    "TUPLES"
   ]
  },
  {
   "cell_type": "code",
   "execution_count": 26,
   "id": "cf167a50-dbab-412b-9ffb-c48f53b491fd",
   "metadata": {
    "tags": []
   },
   "outputs": [
    {
     "data": {
      "text/plain": [
       "3"
      ]
     },
     "execution_count": 26,
     "metadata": {},
     "output_type": "execute_result"
    }
   ],
   "source": [
    "#Tuples are immutable lists.\n",
    "\n",
    "x = (1,2,3)\n",
    "len(x)"
   ]
  },
  {
   "cell_type": "code",
   "execution_count": 32,
   "id": "747e4076-39bd-4cec-b85d-00c6e529b773",
   "metadata": {
    "tags": []
   },
   "outputs": [
    {
     "data": {
      "text/plain": [
       "5"
      ]
     },
     "execution_count": 32,
     "metadata": {},
     "output_type": "execute_result"
    }
   ],
   "source": [
    "y = (4,5,6)\n",
    "y[1]"
   ]
  },
  {
   "cell_type": "code",
   "execution_count": 34,
   "id": "cb85d8cd-932e-46b2-89aa-dad8cd5832dd",
   "metadata": {
    "tags": []
   },
   "outputs": [
    {
     "data": {
      "text/plain": [
       "[(1, 2, 3), (4, 5, 6)]"
      ]
     },
     "execution_count": 34,
     "metadata": {},
     "output_type": "execute_result"
    }
   ],
   "source": [
    "listOfTuples = [x,y]\n",
    "listOfTuples"
   ]
  },
  {
   "cell_type": "code",
   "execution_count": 36,
   "id": "2b94648f-3bb3-4034-bddc-35bc7bacb232",
   "metadata": {
    "tags": []
   },
   "outputs": [
    {
     "name": "stdout",
     "output_type": "stream",
     "text": [
      "32\n",
      "12000\n"
     ]
    }
   ],
   "source": [
    "(age, income) = \"32,12000\".split(',')\n",
    "print(age)\n",
    "print(income)"
   ]
  },
  {
   "cell_type": "markdown",
   "id": "e3825192-5567-41a1-bb22-c725186ddff0",
   "metadata": {},
   "source": [
    "DICTIONARY"
   ]
  },
  {
   "cell_type": "code",
   "execution_count": 52,
   "id": "52341262-a43e-4931-9678-f55b10016b4c",
   "metadata": {
    "tags": []
   },
   "outputs": [
    {
     "name": "stdout",
     "output_type": "stream",
     "text": [
      "{'Enterprise': 'kirk', 'Ent D': 'Picard', 'DSN': 'Siko', 'Voyager': 'JaneWay'}\n"
     ]
    }
   ],
   "source": [
    "captains = {}\n",
    "\n",
    "captains[\"Enterprise\"] = \"kirk\"\n",
    "captains[\"Ent D\"] = \"Picard\"\n",
    "captains[\"DSN\"] = \"Siko\"\n",
    "captains[\"Voyager\"] = \"JaneWay\"\n",
    "         \n",
    "print(captains)"
   ]
  },
  {
   "cell_type": "code",
   "execution_count": 56,
   "id": "9741074a-c4e4-4fe1-8d7f-244f5f6a4c4b",
   "metadata": {
    "tags": []
   },
   "outputs": [
    {
     "name": "stdout",
     "output_type": "stream",
     "text": [
      "JaneWay\n"
     ]
    }
   ],
   "source": [
    "print(captains[\"Voyager\"])"
   ]
  },
  {
   "cell_type": "code",
   "execution_count": 58,
   "id": "703d4a88-f8b1-4d3c-a172-647627f08abc",
   "metadata": {
    "tags": []
   },
   "outputs": [
    {
     "name": "stdout",
     "output_type": "stream",
     "text": [
      "Siko\n"
     ]
    }
   ],
   "source": [
    "print(captains.get(\"DSN\"))"
   ]
  },
  {
   "cell_type": "code",
   "execution_count": 60,
   "id": "ad98b2c2-aac9-439c-ab60-ea202e917586",
   "metadata": {
    "tags": []
   },
   "outputs": [
    {
     "name": "stdout",
     "output_type": "stream",
     "text": [
      "Enterprise:kirk\n",
      "Ent D:Picard\n",
      "DSN:Siko\n",
      "Voyager:JaneWay\n"
     ]
    }
   ],
   "source": [
    "for ship in captains:\n",
    "    print(ship + \":\" + captains[ship])"
   ]
  },
  {
   "cell_type": "code",
   "execution_count": 62,
   "id": "aec9594e-c4ff-4af6-a252-8c759d2f5cb4",
   "metadata": {
    "tags": []
   },
   "outputs": [
    {
     "name": "stdout",
     "output_type": "stream",
     "text": [
      "{'Enterprise': 'kirk', 'Ent D': 'Picard', 'DSN': 'Siko', 'Voyager': 'JaneWay', 1: '2'}\n"
     ]
    }
   ],
   "source": [
    "captains[1] = \"2\"\n",
    "print(captains)"
   ]
  },
  {
   "cell_type": "code",
   "execution_count": 64,
   "id": "c2b126be-284b-4c10-8f57-47a304de0653",
   "metadata": {
    "tags": []
   },
   "outputs": [
    {
     "name": "stdout",
     "output_type": "stream",
     "text": [
      "Enterprise\n",
      "Ent D\n",
      "DSN\n",
      "Voyager\n",
      "1\n"
     ]
    }
   ],
   "source": [
    "for ship in captains:\n",
    "    print(ship)"
   ]
  },
  {
   "cell_type": "code",
   "execution_count": 66,
   "id": "ca3b8c69-6baf-47cd-9274-27be052e4e2a",
   "metadata": {
    "tags": []
   },
   "outputs": [
    {
     "name": "stdout",
     "output_type": "stream",
     "text": [
      "JaneWay\n"
     ]
    }
   ],
   "source": [
    "ans = captains[\"Voyager\"]\n",
    "print(ans)"
   ]
  },
  {
   "cell_type": "code",
   "execution_count": null,
   "id": "5b3dbc63-caca-474e-bdef-b5fe5a1de657",
   "metadata": {},
   "outputs": [],
   "source": [
    "FUNCTIONS"
   ]
  },
  {
   "cell_type": "code",
   "execution_count": 68,
   "id": "daff0aa2-8373-406f-8c46-90368a08eea5",
   "metadata": {
    "tags": []
   },
   "outputs": [
    {
     "name": "stdout",
     "output_type": "stream",
     "text": [
      "4\n"
     ]
    }
   ],
   "source": [
    "def sq(x):\n",
    "    return x*x\n",
    "\n",
    "print(sq(2))"
   ]
  },
  {
   "cell_type": "code",
   "execution_count": 72,
   "id": "f8ca9478-7aab-41b6-92c7-99fe1574a865",
   "metadata": {
    "tags": []
   },
   "outputs": [
    {
     "name": "stdout",
     "output_type": "stream",
     "text": [
      "16\n"
     ]
    }
   ],
   "source": [
    "def doSomethn(p,x):\n",
    "    return p(x)\n",
    "\n",
    "print(doSomethn(sq,4))"
   ]
  },
  {
   "cell_type": "code",
   "execution_count": 74,
   "id": "1f29a654-aafe-4826-adbd-58fdce10591a",
   "metadata": {
    "tags": []
   },
   "outputs": [
    {
     "name": "stdout",
     "output_type": "stream",
     "text": [
      "27\n"
     ]
    }
   ],
   "source": [
    "print(doSomethn(lambda x: x*x*x,3))"
   ]
  },
  {
   "cell_type": "markdown",
   "id": "591a3f4a-ec79-4b2b-93f8-f9eb8223d04f",
   "metadata": {},
   "source": [
    "BOOLEAN EXPRESSIONS"
   ]
  },
  {
   "cell_type": "code",
   "execution_count": 76,
   "id": "cc47b5da-d4f5-49b3-891e-6739fb174d1d",
   "metadata": {
    "tags": []
   },
   "outputs": [
    {
     "name": "stdout",
     "output_type": "stream",
     "text": [
      "False\n"
     ]
    }
   ],
   "source": [
    "print(1 == 3)"
   ]
  },
  {
   "cell_type": "code",
   "execution_count": 78,
   "id": "f5843b55-a6f1-41d6-b713-f3f497c83e71",
   "metadata": {
    "tags": []
   },
   "outputs": [
    {
     "name": "stdout",
     "output_type": "stream",
     "text": [
      "True\n"
     ]
    }
   ],
   "source": [
    "print(True or False)"
   ]
  },
  {
   "cell_type": "code",
   "execution_count": 80,
   "id": "3092a8c9-a505-436c-a0e1-359fca003a63",
   "metadata": {
    "tags": []
   },
   "outputs": [
    {
     "name": "stdout",
     "output_type": "stream",
     "text": [
      "False\n"
     ]
    },
    {
     "name": "stderr",
     "output_type": "stream",
     "text": [
      "<>:1: SyntaxWarning: \"is\" with a literal. Did you mean \"==\"?\n",
      "<>:1: SyntaxWarning: \"is\" with a literal. Did you mean \"==\"?\n",
      "/tmp/ipykernel_73073/453973788.py:1: SyntaxWarning: \"is\" with a literal. Did you mean \"==\"?\n",
      "  print(1 is 3)\n"
     ]
    }
   ],
   "source": [
    "print(1 is 3)"
   ]
  },
  {
   "cell_type": "code",
   "execution_count": 82,
   "id": "ae1deadf-ab73-4a06-a3d7-a396683649d1",
   "metadata": {
    "tags": []
   },
   "outputs": [
    {
     "name": "stdout",
     "output_type": "stream",
     "text": [
      "All Good\n"
     ]
    },
    {
     "name": "stderr",
     "output_type": "stream",
     "text": [
      "<>:1: SyntaxWarning: \"is\" with a literal. Did you mean \"==\"?\n",
      "<>:1: SyntaxWarning: \"is\" with a literal. Did you mean \"==\"?\n",
      "/tmp/ipykernel_73073/1266928859.py:1: SyntaxWarning: \"is\" with a literal. Did you mean \"==\"?\n",
      "  if 1 is 3:\n"
     ]
    }
   ],
   "source": [
    "if 1 is 3:\n",
    "    print(\"No bro \")\n",
    "elif 1 > 3:\n",
    "    print(\"Yes\")\n",
    "else:\n",
    "    print(\"All Good\")"
   ]
  },
  {
   "cell_type": "markdown",
   "id": "c8a1a902-4632-432a-8d37-6cc3594d2e3e",
   "metadata": {},
   "source": [
    "LOOPING"
   ]
  },
  {
   "cell_type": "code",
   "execution_count": 84,
   "id": "095a6284-c6a7-4ae1-bbb3-eaf87b080392",
   "metadata": {
    "tags": []
   },
   "outputs": [
    {
     "name": "stdout",
     "output_type": "stream",
     "text": [
      "0\n",
      "1\n",
      "2\n",
      "3\n",
      "4\n",
      "5\n",
      "6\n",
      "7\n",
      "8\n",
      "9\n"
     ]
    }
   ],
   "source": [
    "for x in range(10):\n",
    "    print(x)"
   ]
  },
  {
   "cell_type": "code",
   "execution_count": 86,
   "id": "5ff1aafe-e0f5-4fec-b8f8-ce1e063d0bcd",
   "metadata": {
    "tags": []
   },
   "outputs": [
    {
     "name": "stdout",
     "output_type": "stream",
     "text": [
      "0\n",
      "2\n",
      "3\n",
      "4\n",
      "5\n"
     ]
    },
    {
     "name": "stderr",
     "output_type": "stream",
     "text": [
      "<>:2: SyntaxWarning: \"is\" with a literal. Did you mean \"==\"?\n",
      "<>:2: SyntaxWarning: \"is\" with a literal. Did you mean \"==\"?\n",
      "/tmp/ipykernel_73073/1656446068.py:2: SyntaxWarning: \"is\" with a literal. Did you mean \"==\"?\n",
      "  if(x is 1):\n"
     ]
    }
   ],
   "source": [
    "for x in range(10):\n",
    "    if(x is 1):\n",
    "        continue\n",
    "    if(x > 5):\n",
    "        break\n",
    "    print(x)"
   ]
  },
  {
   "cell_type": "code",
   "execution_count": 92,
   "id": "3b0eed8f-b9cb-4ccb-9b3e-d124329b34f2",
   "metadata": {
    "tags": []
   },
   "outputs": [
    {
     "name": "stdout",
     "output_type": "stream",
     "text": [
      "1\n",
      "2\n",
      "Beautiful\n",
      "place\n"
     ]
    }
   ],
   "source": [
    "li = [1,2,\"Beautiful\", \"place\"]\n",
    "for i in li:\n",
    "    print(i)"
   ]
  },
  {
   "cell_type": "code",
   "execution_count": 100,
   "id": "a5448de2-6671-440c-b7e8-4130b1d56c63",
   "metadata": {
    "tags": []
   },
   "outputs": [
    {
     "name": "stdout",
     "output_type": "stream",
     "text": [
      "2\n",
      "5\n",
      "8\n"
     ]
    }
   ],
   "source": [
    "y = 2\n",
    "while(y < 10):\n",
    "    print(y)\n",
    "    y += 3"
   ]
  },
  {
   "cell_type": "code",
   "execution_count": 104,
   "id": "01f0f83b-7208-4517-8bef-c26f231f71e2",
   "metadata": {
    "tags": []
   },
   "outputs": [
    {
     "name": "stdout",
     "output_type": "stream",
     "text": [
      "12\n",
      "4\n",
      "2\n",
      "6\n",
      "34\n",
      "22\n",
      "76\n",
      "10\n",
      "12\n"
     ]
    }
   ],
   "source": [
    "#Print only even numbers in the list\n",
    "\n",
    "numb = [1,12,3,4,2,6,9,89,34,22,76,10,12]\n",
    "\n",
    "for i in numb:\n",
    "    if i%2 == 0:\n",
    "        print(i)"
   ]
  },
  {
   "cell_type": "code",
   "execution_count": null,
   "id": "04340527-dfd8-4e70-acd5-9595d53948ce",
   "metadata": {},
   "outputs": [],
   "source": []
  }
 ],
 "metadata": {
  "kernelspec": {
   "display_name": "Python 3 (ipykernel)",
   "language": "python",
   "name": "python3"
  },
  "language_info": {
   "codemirror_mode": {
    "name": "ipython",
    "version": 3
   },
   "file_extension": ".py",
   "mimetype": "text/x-python",
   "name": "python",
   "nbconvert_exporter": "python",
   "pygments_lexer": "ipython3",
   "version": "3.11.5"
  }
 },
 "nbformat": 4,
 "nbformat_minor": 5
}
