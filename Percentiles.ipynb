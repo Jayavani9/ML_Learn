{
 "cells": [
  {
   "cell_type": "code",
   "execution_count": 2,
   "id": "f0d1de29-4e47-40fa-a84a-2615612c206e",
   "metadata": {
    "tags": []
   },
   "outputs": [],
   "source": [
    "import numpy as np\n",
    "import pandas as pd"
   ]
  },
  {
   "cell_type": "code",
   "execution_count": 8,
   "id": "f17531cc-2c14-4c61-9a86-36722eb5a95d",
   "metadata": {
    "tags": []
   },
   "outputs": [
    {
     "data": {
      "text/html": [
       "<div>\n",
       "<style scoped>\n",
       "    .dataframe tbody tr th:only-of-type {\n",
       "        vertical-align: middle;\n",
       "    }\n",
       "\n",
       "    .dataframe tbody tr th {\n",
       "        vertical-align: top;\n",
       "    }\n",
       "\n",
       "    .dataframe thead th {\n",
       "        text-align: right;\n",
       "    }\n",
       "</style>\n",
       "<table border=\"1\" class=\"dataframe\">\n",
       "  <thead>\n",
       "    <tr style=\"text-align: right;\">\n",
       "      <th></th>\n",
       "      <th>name</th>\n",
       "      <th>income</th>\n",
       "    </tr>\n",
       "  </thead>\n",
       "  <tbody>\n",
       "    <tr>\n",
       "      <th>0</th>\n",
       "      <td>Rob</td>\n",
       "      <td>5000</td>\n",
       "    </tr>\n",
       "    <tr>\n",
       "      <th>1</th>\n",
       "      <td>Rafiq</td>\n",
       "      <td>6000</td>\n",
       "    </tr>\n",
       "    <tr>\n",
       "      <th>2</th>\n",
       "      <td>Nina</td>\n",
       "      <td>4000</td>\n",
       "    </tr>\n",
       "    <tr>\n",
       "      <th>3</th>\n",
       "      <td>Sofia</td>\n",
       "      <td>7500</td>\n",
       "    </tr>\n",
       "    <tr>\n",
       "      <th>4</th>\n",
       "      <td>Mohan</td>\n",
       "      <td>8000</td>\n",
       "    </tr>\n",
       "    <tr>\n",
       "      <th>5</th>\n",
       "      <td>Tao</td>\n",
       "      <td>7000</td>\n",
       "    </tr>\n",
       "    <tr>\n",
       "      <th>6</th>\n",
       "      <td>Elon Musk</td>\n",
       "      <td>10000000</td>\n",
       "    </tr>\n",
       "  </tbody>\n",
       "</table>\n",
       "</div>"
      ],
      "text/plain": [
       "        name    income\n",
       "0        Rob      5000\n",
       "1      Rafiq      6000\n",
       "2       Nina      4000\n",
       "3      Sofia      7500\n",
       "4      Mohan      8000\n",
       "5        Tao      7000\n",
       "6  Elon Musk  10000000"
      ]
     },
     "execution_count": 8,
     "metadata": {},
     "output_type": "execute_result"
    }
   ],
   "source": [
    "# names is used here to give column names as required\n",
    "# skiprows to skip the first row which is the column name in the dataset which is already defined other than what we defined in names \n",
    "\n",
    "df = pd.read_csv('income.csv', names = [\"name\", \"income\"], skiprows = [0])\n",
    "df"
   ]
  },
  {
   "cell_type": "code",
   "execution_count": 10,
   "id": "3021e15a-53c3-4c0d-90ca-3751e220226f",
   "metadata": {
    "tags": []
   },
   "outputs": [
    {
     "data": {
      "text/plain": [
       "count    7.000000e+00\n",
       "mean     1.433929e+06\n",
       "std      3.777283e+06\n",
       "min      4.000000e+03\n",
       "25%      5.500000e+03\n",
       "50%      7.000000e+03\n",
       "75%      7.750000e+03\n",
       "max      1.000000e+07\n",
       "Name: income, dtype: float64"
      ]
     },
     "execution_count": 10,
     "metadata": {},
     "output_type": "execute_result"
    }
   ],
   "source": [
    "#describe gives the information of the dataset such as mean, percentiles,..\n",
    "\n",
    "df.income.describe()"
   ]
  },
  {
   "cell_type": "code",
   "execution_count": 22,
   "id": "7fa83033-726d-45f1-82eb-bf57638cae90",
   "metadata": {
    "tags": []
   },
   "outputs": [
    {
     "data": {
      "text/plain": [
       "5000"
      ]
     },
     "execution_count": 22,
     "metadata": {},
     "output_type": "execute_result"
    }
   ],
   "source": [
    "df.income.quantile(0.25, interpolation = \"lower\")"
   ]
  },
  {
   "cell_type": "code",
   "execution_count": 24,
   "id": "a74d2f82-dc3a-4776-bed6-c86ddb1ebdc5",
   "metadata": {
    "tags": []
   },
   "outputs": [
    {
     "data": {
      "text/plain": [
       "7750.0"
      ]
     },
     "execution_count": 24,
     "metadata": {},
     "output_type": "execute_result"
    }
   ],
   "source": [
    "df.income.quantile(0.75)"
   ]
  },
  {
   "cell_type": "code",
   "execution_count": 26,
   "id": "cd75ebf1-02a9-4211-a899-7db6d716193d",
   "metadata": {
    "tags": []
   },
   "outputs": [
    {
     "data": {
      "text/plain": [
       "7000"
      ]
     },
     "execution_count": 26,
     "metadata": {},
     "output_type": "execute_result"
    }
   ],
   "source": [
    "df.income.quantile(0.5, interpolation = \"lower\")"
   ]
  },
  {
   "cell_type": "code",
   "execution_count": 14,
   "id": "571b09e5-3eaa-4ab7-8777-6c01f13cb104",
   "metadata": {
    "tags": []
   },
   "outputs": [
    {
     "data": {
      "text/plain": [
       "10000000.0"
      ]
     },
     "execution_count": 14,
     "metadata": {},
     "output_type": "execute_result"
    }
   ],
   "source": [
    "df.income.quantile(1)"
   ]
  },
  {
   "cell_type": "code",
   "execution_count": 28,
   "id": "7032adbc-8b3b-45ab-af66-6af04f9b17d3",
   "metadata": {
    "tags": []
   },
   "outputs": [
    {
     "data": {
      "text/plain": [
       "9400479.999999994"
      ]
     },
     "execution_count": 28,
     "metadata": {},
     "output_type": "execute_result"
    }
   ],
   "source": [
    "perc_99 = df.income.quantile(0.99)\n",
    "perc_99"
   ]
  },
  {
   "cell_type": "code",
   "execution_count": 30,
   "id": "d8b1b0c0-a95e-4f69-b6e5-87f1798fdee1",
   "metadata": {
    "tags": []
   },
   "outputs": [
    {
     "data": {
      "text/html": [
       "<div>\n",
       "<style scoped>\n",
       "    .dataframe tbody tr th:only-of-type {\n",
       "        vertical-align: middle;\n",
       "    }\n",
       "\n",
       "    .dataframe tbody tr th {\n",
       "        vertical-align: top;\n",
       "    }\n",
       "\n",
       "    .dataframe thead th {\n",
       "        text-align: right;\n",
       "    }\n",
       "</style>\n",
       "<table border=\"1\" class=\"dataframe\">\n",
       "  <thead>\n",
       "    <tr style=\"text-align: right;\">\n",
       "      <th></th>\n",
       "      <th>name</th>\n",
       "      <th>income</th>\n",
       "    </tr>\n",
       "  </thead>\n",
       "  <tbody>\n",
       "    <tr>\n",
       "      <th>6</th>\n",
       "      <td>Elon Musk</td>\n",
       "      <td>10000000</td>\n",
       "    </tr>\n",
       "  </tbody>\n",
       "</table>\n",
       "</div>"
      ],
      "text/plain": [
       "        name    income\n",
       "6  Elon Musk  10000000"
      ]
     },
     "execution_count": 30,
     "metadata": {},
     "output_type": "execute_result"
    }
   ],
   "source": [
    "df[df.income > perc_99]"
   ]
  },
  {
   "cell_type": "markdown",
   "id": "25f99b6e-1f08-4737-8dc1-72ded7c2f9c7",
   "metadata": {},
   "source": [
    "Removing an Outlier"
   ]
  },
  {
   "cell_type": "code",
   "execution_count": 32,
   "id": "414df3c3-8f9f-43d5-b499-1b31cd900a8c",
   "metadata": {
    "tags": []
   },
   "outputs": [
    {
     "data": {
      "text/html": [
       "<div>\n",
       "<style scoped>\n",
       "    .dataframe tbody tr th:only-of-type {\n",
       "        vertical-align: middle;\n",
       "    }\n",
       "\n",
       "    .dataframe tbody tr th {\n",
       "        vertical-align: top;\n",
       "    }\n",
       "\n",
       "    .dataframe thead th {\n",
       "        text-align: right;\n",
       "    }\n",
       "</style>\n",
       "<table border=\"1\" class=\"dataframe\">\n",
       "  <thead>\n",
       "    <tr style=\"text-align: right;\">\n",
       "      <th></th>\n",
       "      <th>name</th>\n",
       "      <th>income</th>\n",
       "    </tr>\n",
       "  </thead>\n",
       "  <tbody>\n",
       "    <tr>\n",
       "      <th>0</th>\n",
       "      <td>Rob</td>\n",
       "      <td>5000</td>\n",
       "    </tr>\n",
       "    <tr>\n",
       "      <th>1</th>\n",
       "      <td>Rafiq</td>\n",
       "      <td>6000</td>\n",
       "    </tr>\n",
       "    <tr>\n",
       "      <th>2</th>\n",
       "      <td>Nina</td>\n",
       "      <td>4000</td>\n",
       "    </tr>\n",
       "    <tr>\n",
       "      <th>3</th>\n",
       "      <td>Sofia</td>\n",
       "      <td>7500</td>\n",
       "    </tr>\n",
       "    <tr>\n",
       "      <th>4</th>\n",
       "      <td>Mohan</td>\n",
       "      <td>8000</td>\n",
       "    </tr>\n",
       "    <tr>\n",
       "      <th>5</th>\n",
       "      <td>Tao</td>\n",
       "      <td>7000</td>\n",
       "    </tr>\n",
       "  </tbody>\n",
       "</table>\n",
       "</div>"
      ],
      "text/plain": [
       "    name  income\n",
       "0    Rob    5000\n",
       "1  Rafiq    6000\n",
       "2   Nina    4000\n",
       "3  Sofia    7500\n",
       "4  Mohan    8000\n",
       "5    Tao    7000"
      ]
     },
     "execution_count": 32,
     "metadata": {},
     "output_type": "execute_result"
    }
   ],
   "source": [
    "df_no_outlier = df[df.income < perc_99]\n",
    "df_no_outlier"
   ]
  },
  {
   "cell_type": "markdown",
   "id": "883fe94d-e3e6-461f-84e0-b15db1ea22f6",
   "metadata": {},
   "source": [
    "Filling a Null Value"
   ]
  },
  {
   "cell_type": "code",
   "execution_count": 40,
   "id": "1d1b5714-9697-4a8c-9f7a-960ac10da1fd",
   "metadata": {
    "tags": []
   },
   "outputs": [
    {
     "name": "stderr",
     "output_type": "stream",
     "text": [
      "/var/folders/js/pcxnd6bs7yn6h514mnlgcpfr0000gn/T/ipykernel_37065/2943373670.py:1: SettingWithCopyWarning: \n",
      "A value is trying to be set on a copy of a slice from a DataFrame\n",
      "\n",
      "See the caveats in the documentation: https://pandas.pydata.org/pandas-docs/stable/user_guide/indexing.html#returning-a-view-versus-a-copy\n",
      "  df['income'][3] = np.NaN\n"
     ]
    }
   ],
   "source": [
    "df['income'][3] = np.NaN"
   ]
  },
  {
   "cell_type": "code",
   "execution_count": 42,
   "id": "4cc2c135-c976-449a-8a7a-6d129c6e3e77",
   "metadata": {
    "tags": []
   },
   "outputs": [
    {
     "data": {
      "text/html": [
       "<div>\n",
       "<style scoped>\n",
       "    .dataframe tbody tr th:only-of-type {\n",
       "        vertical-align: middle;\n",
       "    }\n",
       "\n",
       "    .dataframe tbody tr th {\n",
       "        vertical-align: top;\n",
       "    }\n",
       "\n",
       "    .dataframe thead th {\n",
       "        text-align: right;\n",
       "    }\n",
       "</style>\n",
       "<table border=\"1\" class=\"dataframe\">\n",
       "  <thead>\n",
       "    <tr style=\"text-align: right;\">\n",
       "      <th></th>\n",
       "      <th>name</th>\n",
       "      <th>income</th>\n",
       "    </tr>\n",
       "  </thead>\n",
       "  <tbody>\n",
       "    <tr>\n",
       "      <th>0</th>\n",
       "      <td>Rob</td>\n",
       "      <td>5000.0</td>\n",
       "    </tr>\n",
       "    <tr>\n",
       "      <th>1</th>\n",
       "      <td>Rafiq</td>\n",
       "      <td>6000.0</td>\n",
       "    </tr>\n",
       "    <tr>\n",
       "      <th>2</th>\n",
       "      <td>Nina</td>\n",
       "      <td>4000.0</td>\n",
       "    </tr>\n",
       "    <tr>\n",
       "      <th>3</th>\n",
       "      <td>Sofia</td>\n",
       "      <td>NaN</td>\n",
       "    </tr>\n",
       "    <tr>\n",
       "      <th>4</th>\n",
       "      <td>Mohan</td>\n",
       "      <td>8000.0</td>\n",
       "    </tr>\n",
       "    <tr>\n",
       "      <th>5</th>\n",
       "      <td>Tao</td>\n",
       "      <td>7000.0</td>\n",
       "    </tr>\n",
       "    <tr>\n",
       "      <th>6</th>\n",
       "      <td>Elon Musk</td>\n",
       "      <td>10000000.0</td>\n",
       "    </tr>\n",
       "  </tbody>\n",
       "</table>\n",
       "</div>"
      ],
      "text/plain": [
       "        name      income\n",
       "0        Rob      5000.0\n",
       "1      Rafiq      6000.0\n",
       "2       Nina      4000.0\n",
       "3      Sofia         NaN\n",
       "4      Mohan      8000.0\n",
       "5        Tao      7000.0\n",
       "6  Elon Musk  10000000.0"
      ]
     },
     "execution_count": 42,
     "metadata": {},
     "output_type": "execute_result"
    }
   ],
   "source": [
    "df"
   ]
  },
  {
   "cell_type": "code",
   "execution_count": 44,
   "id": "b6cd8054-9d89-42ce-ab03-f2642b244ec5",
   "metadata": {
    "tags": []
   },
   "outputs": [
    {
     "data": {
      "text/plain": [
       "1671666.6666666667"
      ]
     },
     "execution_count": 44,
     "metadata": {},
     "output_type": "execute_result"
    }
   ],
   "source": [
    "df.income.mean()"
   ]
  },
  {
   "cell_type": "markdown",
   "id": "2e45cf07-017f-4ab0-bfe5-ebec1e7e5768",
   "metadata": {},
   "source": [
    "As the outlier influence is too much on the mean as seen above, it is advisible to use median value to fill the null value in this case."
   ]
  },
  {
   "cell_type": "code",
   "execution_count": 46,
   "id": "58da7ba3-8d53-4e2c-b385-4efb45a73bde",
   "metadata": {
    "tags": []
   },
   "outputs": [
    {
     "data": {
      "text/plain": [
       "6500.0"
      ]
     },
     "execution_count": 46,
     "metadata": {},
     "output_type": "execute_result"
    }
   ],
   "source": [
    "df.income.median()"
   ]
  },
  {
   "cell_type": "code",
   "execution_count": 48,
   "id": "8a38933f-5e00-4477-b12e-8739898106a9",
   "metadata": {
    "tags": []
   },
   "outputs": [
    {
     "data": {
      "text/html": [
       "<div>\n",
       "<style scoped>\n",
       "    .dataframe tbody tr th:only-of-type {\n",
       "        vertical-align: middle;\n",
       "    }\n",
       "\n",
       "    .dataframe tbody tr th {\n",
       "        vertical-align: top;\n",
       "    }\n",
       "\n",
       "    .dataframe thead th {\n",
       "        text-align: right;\n",
       "    }\n",
       "</style>\n",
       "<table border=\"1\" class=\"dataframe\">\n",
       "  <thead>\n",
       "    <tr style=\"text-align: right;\">\n",
       "      <th></th>\n",
       "      <th>name</th>\n",
       "      <th>income</th>\n",
       "    </tr>\n",
       "  </thead>\n",
       "  <tbody>\n",
       "    <tr>\n",
       "      <th>0</th>\n",
       "      <td>Rob</td>\n",
       "      <td>5000.0</td>\n",
       "    </tr>\n",
       "    <tr>\n",
       "      <th>1</th>\n",
       "      <td>Rafiq</td>\n",
       "      <td>6000.0</td>\n",
       "    </tr>\n",
       "    <tr>\n",
       "      <th>2</th>\n",
       "      <td>Nina</td>\n",
       "      <td>4000.0</td>\n",
       "    </tr>\n",
       "    <tr>\n",
       "      <th>3</th>\n",
       "      <td>Sofia</td>\n",
       "      <td>6500.0</td>\n",
       "    </tr>\n",
       "    <tr>\n",
       "      <th>4</th>\n",
       "      <td>Mohan</td>\n",
       "      <td>8000.0</td>\n",
       "    </tr>\n",
       "    <tr>\n",
       "      <th>5</th>\n",
       "      <td>Tao</td>\n",
       "      <td>7000.0</td>\n",
       "    </tr>\n",
       "    <tr>\n",
       "      <th>6</th>\n",
       "      <td>Elon Musk</td>\n",
       "      <td>10000000.0</td>\n",
       "    </tr>\n",
       "  </tbody>\n",
       "</table>\n",
       "</div>"
      ],
      "text/plain": [
       "        name      income\n",
       "0        Rob      5000.0\n",
       "1      Rafiq      6000.0\n",
       "2       Nina      4000.0\n",
       "3      Sofia      6500.0\n",
       "4      Mohan      8000.0\n",
       "5        Tao      7000.0\n",
       "6  Elon Musk  10000000.0"
      ]
     },
     "execution_count": 48,
     "metadata": {},
     "output_type": "execute_result"
    }
   ],
   "source": [
    "df_noNull = df.fillna(df.income.median())\n",
    "df_noNull"
   ]
  },
  {
   "cell_type": "markdown",
   "id": "6f0e07a3-284f-429a-aa62-074c74fcd9cd",
   "metadata": {},
   "source": [
    "Working with Airbnb New York City Data Set"
   ]
  },
  {
   "cell_type": "code",
   "execution_count": 52,
   "id": "335f7575-dc5c-4dd4-8c5f-fc98d8f61747",
   "metadata": {
    "tags": []
   },
   "outputs": [
    {
     "data": {
      "text/html": [
       "<div>\n",
       "<style scoped>\n",
       "    .dataframe tbody tr th:only-of-type {\n",
       "        vertical-align: middle;\n",
       "    }\n",
       "\n",
       "    .dataframe tbody tr th {\n",
       "        vertical-align: top;\n",
       "    }\n",
       "\n",
       "    .dataframe thead th {\n",
       "        text-align: right;\n",
       "    }\n",
       "</style>\n",
       "<table border=\"1\" class=\"dataframe\">\n",
       "  <thead>\n",
       "    <tr style=\"text-align: right;\">\n",
       "      <th></th>\n",
       "      <th>id</th>\n",
       "      <th>name</th>\n",
       "      <th>host_id</th>\n",
       "      <th>host_name</th>\n",
       "      <th>neighbourhood_group</th>\n",
       "      <th>neighbourhood</th>\n",
       "      <th>latitude</th>\n",
       "      <th>longitude</th>\n",
       "      <th>room_type</th>\n",
       "      <th>price</th>\n",
       "      <th>minimum_nights</th>\n",
       "      <th>number_of_reviews</th>\n",
       "      <th>last_review</th>\n",
       "      <th>reviews_per_month</th>\n",
       "      <th>calculated_host_listings_count</th>\n",
       "      <th>availability_365</th>\n",
       "    </tr>\n",
       "  </thead>\n",
       "  <tbody>\n",
       "    <tr>\n",
       "      <th>0</th>\n",
       "      <td>2539</td>\n",
       "      <td>Clean &amp; quiet apt home by the park</td>\n",
       "      <td>2787</td>\n",
       "      <td>John</td>\n",
       "      <td>Brooklyn</td>\n",
       "      <td>Kensington</td>\n",
       "      <td>40.64749</td>\n",
       "      <td>-73.97237</td>\n",
       "      <td>Private room</td>\n",
       "      <td>149</td>\n",
       "      <td>1</td>\n",
       "      <td>9</td>\n",
       "      <td>2018-10-19</td>\n",
       "      <td>0.21</td>\n",
       "      <td>6</td>\n",
       "      <td>365</td>\n",
       "    </tr>\n",
       "    <tr>\n",
       "      <th>1</th>\n",
       "      <td>2595</td>\n",
       "      <td>Skylit Midtown Castle</td>\n",
       "      <td>2845</td>\n",
       "      <td>Jennifer</td>\n",
       "      <td>Manhattan</td>\n",
       "      <td>Midtown</td>\n",
       "      <td>40.75362</td>\n",
       "      <td>-73.98377</td>\n",
       "      <td>Entire home/apt</td>\n",
       "      <td>225</td>\n",
       "      <td>1</td>\n",
       "      <td>45</td>\n",
       "      <td>2019-05-21</td>\n",
       "      <td>0.38</td>\n",
       "      <td>2</td>\n",
       "      <td>355</td>\n",
       "    </tr>\n",
       "    <tr>\n",
       "      <th>2</th>\n",
       "      <td>3647</td>\n",
       "      <td>THE VILLAGE OF HARLEM....NEW YORK !</td>\n",
       "      <td>4632</td>\n",
       "      <td>Elisabeth</td>\n",
       "      <td>Manhattan</td>\n",
       "      <td>Harlem</td>\n",
       "      <td>40.80902</td>\n",
       "      <td>-73.94190</td>\n",
       "      <td>Private room</td>\n",
       "      <td>150</td>\n",
       "      <td>3</td>\n",
       "      <td>0</td>\n",
       "      <td>NaN</td>\n",
       "      <td>NaN</td>\n",
       "      <td>1</td>\n",
       "      <td>365</td>\n",
       "    </tr>\n",
       "    <tr>\n",
       "      <th>3</th>\n",
       "      <td>3831</td>\n",
       "      <td>Cozy Entire Floor of Brownstone</td>\n",
       "      <td>4869</td>\n",
       "      <td>LisaRoxanne</td>\n",
       "      <td>Brooklyn</td>\n",
       "      <td>Clinton Hill</td>\n",
       "      <td>40.68514</td>\n",
       "      <td>-73.95976</td>\n",
       "      <td>Entire home/apt</td>\n",
       "      <td>89</td>\n",
       "      <td>1</td>\n",
       "      <td>270</td>\n",
       "      <td>2019-07-05</td>\n",
       "      <td>4.64</td>\n",
       "      <td>1</td>\n",
       "      <td>194</td>\n",
       "    </tr>\n",
       "    <tr>\n",
       "      <th>4</th>\n",
       "      <td>5022</td>\n",
       "      <td>Entire Apt: Spacious Studio/Loft by central park</td>\n",
       "      <td>7192</td>\n",
       "      <td>Laura</td>\n",
       "      <td>Manhattan</td>\n",
       "      <td>East Harlem</td>\n",
       "      <td>40.79851</td>\n",
       "      <td>-73.94399</td>\n",
       "      <td>Entire home/apt</td>\n",
       "      <td>80</td>\n",
       "      <td>10</td>\n",
       "      <td>9</td>\n",
       "      <td>2018-11-19</td>\n",
       "      <td>0.10</td>\n",
       "      <td>1</td>\n",
       "      <td>0</td>\n",
       "    </tr>\n",
       "  </tbody>\n",
       "</table>\n",
       "</div>"
      ],
      "text/plain": [
       "     id                                              name  host_id  \\\n",
       "0  2539                Clean & quiet apt home by the park     2787   \n",
       "1  2595                             Skylit Midtown Castle     2845   \n",
       "2  3647               THE VILLAGE OF HARLEM....NEW YORK !     4632   \n",
       "3  3831                   Cozy Entire Floor of Brownstone     4869   \n",
       "4  5022  Entire Apt: Spacious Studio/Loft by central park     7192   \n",
       "\n",
       "     host_name neighbourhood_group neighbourhood  latitude  longitude  \\\n",
       "0         John            Brooklyn    Kensington  40.64749  -73.97237   \n",
       "1     Jennifer           Manhattan       Midtown  40.75362  -73.98377   \n",
       "2    Elisabeth           Manhattan        Harlem  40.80902  -73.94190   \n",
       "3  LisaRoxanne            Brooklyn  Clinton Hill  40.68514  -73.95976   \n",
       "4        Laura           Manhattan   East Harlem  40.79851  -73.94399   \n",
       "\n",
       "         room_type  price  minimum_nights  number_of_reviews last_review  \\\n",
       "0     Private room    149               1                  9  2018-10-19   \n",
       "1  Entire home/apt    225               1                 45  2019-05-21   \n",
       "2     Private room    150               3                  0         NaN   \n",
       "3  Entire home/apt     89               1                270  2019-07-05   \n",
       "4  Entire home/apt     80              10                  9  2018-11-19   \n",
       "\n",
       "   reviews_per_month  calculated_host_listings_count  availability_365  \n",
       "0               0.21                               6               365  \n",
       "1               0.38                               2               355  \n",
       "2                NaN                               1               365  \n",
       "3               4.64                               1               194  \n",
       "4               0.10                               1                 0  "
      ]
     },
     "execution_count": 52,
     "metadata": {},
     "output_type": "execute_result"
    }
   ],
   "source": [
    "df1 = pd.read_csv('AB_NYC_2019.csv')\n",
    "df1.head()"
   ]
  },
  {
   "cell_type": "code",
   "execution_count": 56,
   "id": "982e7aa5-1126-4dc5-b671-f6defb3a15be",
   "metadata": {
    "tags": []
   },
   "outputs": [
    {
     "data": {
      "text/plain": [
       "0        149\n",
       "1        225\n",
       "2        150\n",
       "3         89\n",
       "4         80\n",
       "        ... \n",
       "48890     70\n",
       "48891     40\n",
       "48892    115\n",
       "48893     55\n",
       "48894     90\n",
       "Name: price, Length: 48895, dtype: int64"
      ]
     },
     "execution_count": 56,
     "metadata": {},
     "output_type": "execute_result"
    }
   ],
   "source": [
    "df1['price']"
   ]
  },
  {
   "cell_type": "code",
   "execution_count": 58,
   "id": "aad58dc2-3da7-43ca-a73f-adf7259369b6",
   "metadata": {
    "tags": []
   },
   "outputs": [
    {
     "data": {
      "text/plain": [
       "782320"
      ]
     },
     "execution_count": 58,
     "metadata": {},
     "output_type": "execute_result"
    }
   ],
   "source": [
    "df1.size"
   ]
  },
  {
   "cell_type": "code",
   "execution_count": 60,
   "id": "0cad0ae5-a9da-4637-952b-16b8cdd9f98e",
   "metadata": {
    "tags": []
   },
   "outputs": [
    {
     "data": {
      "text/plain": [
       "(48895, 16)"
      ]
     },
     "execution_count": 60,
     "metadata": {},
     "output_type": "execute_result"
    }
   ],
   "source": [
    "df1.shape #There are 48895 records"
   ]
  },
  {
   "cell_type": "code",
   "execution_count": 64,
   "id": "2dec6292-996c-4313-8437-1518e67deeb6",
   "metadata": {
    "tags": []
   },
   "outputs": [
    {
     "data": {
      "text/plain": [
       "0"
      ]
     },
     "execution_count": 64,
     "metadata": {},
     "output_type": "execute_result"
    }
   ],
   "source": [
    "df1.price.isnull().sum() #There are no null values in the price column"
   ]
  },
  {
   "cell_type": "code",
   "execution_count": 66,
   "id": "62411d98-87bd-4c1c-bb93-c54635a55858",
   "metadata": {
    "tags": []
   },
   "outputs": [
    {
     "data": {
      "text/plain": [
       "count    48895.000000\n",
       "mean       152.720687\n",
       "std        240.154170\n",
       "min          0.000000\n",
       "25%         69.000000\n",
       "50%        106.000000\n",
       "75%        175.000000\n",
       "max      10000.000000\n",
       "Name: price, dtype: float64"
      ]
     },
     "execution_count": 66,
     "metadata": {},
     "output_type": "execute_result"
    }
   ],
   "source": [
    "df1.price.describe()"
   ]
  },
  {
   "cell_type": "code",
   "execution_count": 68,
   "id": "8463c674-8523-4533-92c6-0ea251ad8b6d",
   "metadata": {
    "tags": []
   },
   "outputs": [
    {
     "data": {
      "text/plain": [
       "152.7206871868289"
      ]
     },
     "execution_count": 68,
     "metadata": {},
     "output_type": "execute_result"
    }
   ],
   "source": [
    "df1.price.mean()"
   ]
  },
  {
   "cell_type": "code",
   "execution_count": 70,
   "id": "eafd90a7-f555-488e-9ec6-255893d17f52",
   "metadata": {
    "tags": []
   },
   "outputs": [
    {
     "data": {
      "text/plain": [
       "106.0"
      ]
     },
     "execution_count": 70,
     "metadata": {},
     "output_type": "execute_result"
    }
   ],
   "source": [
    "df1.price.median()"
   ]
  },
  {
   "cell_type": "markdown",
   "id": "8ab2718c-e424-4391-87a1-a90a5541667b",
   "metadata": {},
   "source": [
    "We can see from above that the mean is effected from outliers"
   ]
  },
  {
   "cell_type": "code",
   "execution_count": 72,
   "id": "f3e63f05-e55f-4fa2-bfa3-35e6b85152ea",
   "metadata": {
    "tags": []
   },
   "outputs": [
    {
     "data": {
      "text/plain": [
       "69.0"
      ]
     },
     "execution_count": 72,
     "metadata": {},
     "output_type": "execute_result"
    }
   ],
   "source": [
    "df1.price.quantile(0.25)"
   ]
  },
  {
   "cell_type": "code",
   "execution_count": 74,
   "id": "b7a0075d-90a0-4732-8bd9-5448def4a0e0",
   "metadata": {
    "tags": []
   },
   "outputs": [
    {
     "data": {
      "text/plain": [
       "0.0"
      ]
     },
     "execution_count": 74,
     "metadata": {},
     "output_type": "execute_result"
    }
   ],
   "source": [
    "df1.price.quantile(0)"
   ]
  },
  {
   "cell_type": "code",
   "execution_count": 76,
   "id": "a0347108-d615-4cc5-bbaa-03f4c13639cd",
   "metadata": {
    "tags": []
   },
   "outputs": [
    {
     "data": {
      "text/plain": [
       "175.0"
      ]
     },
     "execution_count": 76,
     "metadata": {},
     "output_type": "execute_result"
    }
   ],
   "source": [
    "df1.price.quantile(0.75)"
   ]
  },
  {
   "cell_type": "code",
   "execution_count": 78,
   "id": "19f96b7d-c877-40a2-90a7-e4b66ded7e6c",
   "metadata": {
    "tags": []
   },
   "outputs": [
    {
     "data": {
      "text/plain": [
       "10000.0"
      ]
     },
     "execution_count": 78,
     "metadata": {},
     "output_type": "execute_result"
    }
   ],
   "source": [
    "df1.price.quantile(1)"
   ]
  },
  {
   "cell_type": "code",
   "execution_count": 80,
   "id": "07cd38ba-c71f-4acd-b1f6-0c4dff4c35d8",
   "metadata": {
    "tags": []
   },
   "outputs": [
    {
     "data": {
      "text/plain": [
       "149.0"
      ]
     },
     "execution_count": 80,
     "metadata": {},
     "output_type": "execute_result"
    }
   ],
   "source": [
    "df1.price.quantile(0.65)"
   ]
  },
  {
   "cell_type": "code",
   "execution_count": 82,
   "id": "a8fb2063-fb55-4ccd-912d-7a921de331c0",
   "metadata": {
    "tags": []
   },
   "outputs": [
    {
     "data": {
      "text/plain": [
       "355.0"
      ]
     },
     "execution_count": 82,
     "metadata": {},
     "output_type": "execute_result"
    }
   ],
   "source": [
    "df1.price.quantile(0.95)"
   ]
  },
  {
   "cell_type": "code",
   "execution_count": 84,
   "id": "f3f105d8-1c02-4c57-bf96-8238cd467642",
   "metadata": {
    "tags": []
   },
   "outputs": [
    {
     "data": {
      "text/plain": [
       "269.0"
      ]
     },
     "execution_count": 84,
     "metadata": {},
     "output_type": "execute_result"
    }
   ],
   "source": [
    "df1.price.quantile(0.9)"
   ]
  },
  {
   "cell_type": "code",
   "execution_count": 86,
   "id": "d0ac7dcc-c505-4018-8735-f085a9cae437",
   "metadata": {
    "tags": []
   },
   "outputs": [
    {
     "data": {
      "text/plain": [
       "799.0"
      ]
     },
     "execution_count": 86,
     "metadata": {},
     "output_type": "execute_result"
    }
   ],
   "source": [
    "df1.price.quantile(0.99)"
   ]
  },
  {
   "cell_type": "code",
   "execution_count": 100,
   "id": "84a15b85-a185-495a-8ac7-540cb0f2bc04",
   "metadata": {
    "tags": []
   },
   "outputs": [
    {
     "data": {
      "text/plain": [
       "9151     10000\n",
       "17692    10000\n",
       "29238    10000\n",
       "Name: price, dtype: int64"
      ]
     },
     "execution_count": 100,
     "metadata": {},
     "output_type": "execute_result"
    }
   ],
   "source": [
    "df1.price[df1.price >= df1.price.quantile(1)]"
   ]
  },
  {
   "cell_type": "markdown",
   "id": "46ec51aa-66b0-4bfd-bd7d-f53a0e1f1d88",
   "metadata": {},
   "source": [
    "Consider min and max threshold to reduce outliers "
   ]
  },
  {
   "cell_type": "code",
   "execution_count": 110,
   "id": "bc7041f5-b5d3-4c94-93de-f6df8dd40c18",
   "metadata": {
    "tags": []
   },
   "outputs": [],
   "source": [
    "minThr, maxThr = df1.price.quantile([0.01, 0.999])"
   ]
  },
  {
   "cell_type": "code",
   "execution_count": 112,
   "id": "4c3873d3-7056-46cb-bc8c-4ed12ab3e6a4",
   "metadata": {
    "tags": []
   },
   "outputs": [
    {
     "data": {
      "text/plain": [
       "(30.0, 3000.0)"
      ]
     },
     "execution_count": 112,
     "metadata": {},
     "output_type": "execute_result"
    }
   ],
   "source": [
    "minThr, maxThr"
   ]
  },
  {
   "cell_type": "code",
   "execution_count": 140,
   "id": "9938e193-fa8e-46e1-be2d-0a6501cff75b",
   "metadata": {
    "tags": []
   },
   "outputs": [
    {
     "data": {
      "text/plain": [
       "659"
      ]
     },
     "execution_count": 140,
     "metadata": {},
     "output_type": "execute_result"
    }
   ],
   "source": [
    "df1.price[df1.price <= minThr].count()"
   ]
  },
  {
   "cell_type": "code",
   "execution_count": 142,
   "id": "4feb16ca-8547-46ee-a5be-1ff0ecc5abb7",
   "metadata": {
    "tags": []
   },
   "outputs": [
    {
     "data": {
      "text/plain": [
       "53"
      ]
     },
     "execution_count": 142,
     "metadata": {},
     "output_type": "execute_result"
    }
   ],
   "source": [
    "df1.price[df1.price >=  maxThr].count()"
   ]
  },
  {
   "cell_type": "code",
   "execution_count": 128,
   "id": "c11b35b9-2a9d-4845-8f92-a7dab22b542e",
   "metadata": {
    "tags": []
   },
   "outputs": [
    {
     "data": {
      "text/plain": [
       "(48183, 16)"
      ]
     },
     "execution_count": 128,
     "metadata": {},
     "output_type": "execute_result"
    }
   ],
   "source": [
    "df2 = df1[(df1.price > minThr) & (df1.price < maxThr)]\n",
    "df2.shape"
   ]
  },
  {
   "cell_type": "code",
   "execution_count": 144,
   "id": "c1763889-b320-4476-b83e-60081b892b57",
   "metadata": {
    "tags": []
   },
   "outputs": [
    {
     "data": {
      "text/html": [
       "<div>\n",
       "<style scoped>\n",
       "    .dataframe tbody tr th:only-of-type {\n",
       "        vertical-align: middle;\n",
       "    }\n",
       "\n",
       "    .dataframe tbody tr th {\n",
       "        vertical-align: top;\n",
       "    }\n",
       "\n",
       "    .dataframe thead th {\n",
       "        text-align: right;\n",
       "    }\n",
       "</style>\n",
       "<table border=\"1\" class=\"dataframe\">\n",
       "  <thead>\n",
       "    <tr style=\"text-align: right;\">\n",
       "      <th></th>\n",
       "      <th>id</th>\n",
       "      <th>name</th>\n",
       "      <th>host_id</th>\n",
       "      <th>host_name</th>\n",
       "      <th>neighbourhood_group</th>\n",
       "      <th>neighbourhood</th>\n",
       "      <th>latitude</th>\n",
       "      <th>longitude</th>\n",
       "      <th>room_type</th>\n",
       "      <th>price</th>\n",
       "      <th>minimum_nights</th>\n",
       "      <th>number_of_reviews</th>\n",
       "      <th>last_review</th>\n",
       "      <th>reviews_per_month</th>\n",
       "      <th>calculated_host_listings_count</th>\n",
       "      <th>availability_365</th>\n",
       "    </tr>\n",
       "  </thead>\n",
       "  <tbody>\n",
       "    <tr>\n",
       "      <th>0</th>\n",
       "      <td>2539</td>\n",
       "      <td>Clean &amp; quiet apt home by the park</td>\n",
       "      <td>2787</td>\n",
       "      <td>John</td>\n",
       "      <td>Brooklyn</td>\n",
       "      <td>Kensington</td>\n",
       "      <td>40.64749</td>\n",
       "      <td>-73.97237</td>\n",
       "      <td>Private room</td>\n",
       "      <td>149</td>\n",
       "      <td>1</td>\n",
       "      <td>9</td>\n",
       "      <td>2018-10-19</td>\n",
       "      <td>0.21</td>\n",
       "      <td>6</td>\n",
       "      <td>365</td>\n",
       "    </tr>\n",
       "    <tr>\n",
       "      <th>1</th>\n",
       "      <td>2595</td>\n",
       "      <td>Skylit Midtown Castle</td>\n",
       "      <td>2845</td>\n",
       "      <td>Jennifer</td>\n",
       "      <td>Manhattan</td>\n",
       "      <td>Midtown</td>\n",
       "      <td>40.75362</td>\n",
       "      <td>-73.98377</td>\n",
       "      <td>Entire home/apt</td>\n",
       "      <td>225</td>\n",
       "      <td>1</td>\n",
       "      <td>45</td>\n",
       "      <td>2019-05-21</td>\n",
       "      <td>0.38</td>\n",
       "      <td>2</td>\n",
       "      <td>355</td>\n",
       "    </tr>\n",
       "    <tr>\n",
       "      <th>2</th>\n",
       "      <td>3647</td>\n",
       "      <td>THE VILLAGE OF HARLEM....NEW YORK !</td>\n",
       "      <td>4632</td>\n",
       "      <td>Elisabeth</td>\n",
       "      <td>Manhattan</td>\n",
       "      <td>Harlem</td>\n",
       "      <td>40.80902</td>\n",
       "      <td>-73.94190</td>\n",
       "      <td>Private room</td>\n",
       "      <td>150</td>\n",
       "      <td>3</td>\n",
       "      <td>0</td>\n",
       "      <td>NaN</td>\n",
       "      <td>NaN</td>\n",
       "      <td>1</td>\n",
       "      <td>365</td>\n",
       "    </tr>\n",
       "    <tr>\n",
       "      <th>3</th>\n",
       "      <td>3831</td>\n",
       "      <td>Cozy Entire Floor of Brownstone</td>\n",
       "      <td>4869</td>\n",
       "      <td>LisaRoxanne</td>\n",
       "      <td>Brooklyn</td>\n",
       "      <td>Clinton Hill</td>\n",
       "      <td>40.68514</td>\n",
       "      <td>-73.95976</td>\n",
       "      <td>Entire home/apt</td>\n",
       "      <td>89</td>\n",
       "      <td>1</td>\n",
       "      <td>270</td>\n",
       "      <td>2019-07-05</td>\n",
       "      <td>4.64</td>\n",
       "      <td>1</td>\n",
       "      <td>194</td>\n",
       "    </tr>\n",
       "    <tr>\n",
       "      <th>4</th>\n",
       "      <td>5022</td>\n",
       "      <td>Entire Apt: Spacious Studio/Loft by central park</td>\n",
       "      <td>7192</td>\n",
       "      <td>Laura</td>\n",
       "      <td>Manhattan</td>\n",
       "      <td>East Harlem</td>\n",
       "      <td>40.79851</td>\n",
       "      <td>-73.94399</td>\n",
       "      <td>Entire home/apt</td>\n",
       "      <td>80</td>\n",
       "      <td>10</td>\n",
       "      <td>9</td>\n",
       "      <td>2018-11-19</td>\n",
       "      <td>0.10</td>\n",
       "      <td>1</td>\n",
       "      <td>0</td>\n",
       "    </tr>\n",
       "  </tbody>\n",
       "</table>\n",
       "</div>"
      ],
      "text/plain": [
       "     id                                              name  host_id  \\\n",
       "0  2539                Clean & quiet apt home by the park     2787   \n",
       "1  2595                             Skylit Midtown Castle     2845   \n",
       "2  3647               THE VILLAGE OF HARLEM....NEW YORK !     4632   \n",
       "3  3831                   Cozy Entire Floor of Brownstone     4869   \n",
       "4  5022  Entire Apt: Spacious Studio/Loft by central park     7192   \n",
       "\n",
       "     host_name neighbourhood_group neighbourhood  latitude  longitude  \\\n",
       "0         John            Brooklyn    Kensington  40.64749  -73.97237   \n",
       "1     Jennifer           Manhattan       Midtown  40.75362  -73.98377   \n",
       "2    Elisabeth           Manhattan        Harlem  40.80902  -73.94190   \n",
       "3  LisaRoxanne            Brooklyn  Clinton Hill  40.68514  -73.95976   \n",
       "4        Laura           Manhattan   East Harlem  40.79851  -73.94399   \n",
       "\n",
       "         room_type  price  minimum_nights  number_of_reviews last_review  \\\n",
       "0     Private room    149               1                  9  2018-10-19   \n",
       "1  Entire home/apt    225               1                 45  2019-05-21   \n",
       "2     Private room    150               3                  0         NaN   \n",
       "3  Entire home/apt     89               1                270  2019-07-05   \n",
       "4  Entire home/apt     80              10                  9  2018-11-19   \n",
       "\n",
       "   reviews_per_month  calculated_host_listings_count  availability_365  \n",
       "0               0.21                               6               365  \n",
       "1               0.38                               2               355  \n",
       "2                NaN                               1               365  \n",
       "3               4.64                               1               194  \n",
       "4               0.10                               1                 0  "
      ]
     },
     "execution_count": 144,
     "metadata": {},
     "output_type": "execute_result"
    }
   ],
   "source": [
    "df2.head()"
   ]
  },
  {
   "cell_type": "code",
   "execution_count": 146,
   "id": "79f3599e-861a-4004-be4d-f5079ab23636",
   "metadata": {
    "tags": []
   },
   "outputs": [
    {
     "data": {
      "text/html": [
       "<div>\n",
       "<style scoped>\n",
       "    .dataframe tbody tr th:only-of-type {\n",
       "        vertical-align: middle;\n",
       "    }\n",
       "\n",
       "    .dataframe tbody tr th {\n",
       "        vertical-align: top;\n",
       "    }\n",
       "\n",
       "    .dataframe thead th {\n",
       "        text-align: right;\n",
       "    }\n",
       "</style>\n",
       "<table border=\"1\" class=\"dataframe\">\n",
       "  <thead>\n",
       "    <tr style=\"text-align: right;\">\n",
       "      <th></th>\n",
       "      <th>id</th>\n",
       "      <th>name</th>\n",
       "      <th>host_id</th>\n",
       "      <th>host_name</th>\n",
       "      <th>neighbourhood_group</th>\n",
       "      <th>neighbourhood</th>\n",
       "      <th>latitude</th>\n",
       "      <th>longitude</th>\n",
       "      <th>room_type</th>\n",
       "      <th>price</th>\n",
       "      <th>minimum_nights</th>\n",
       "      <th>number_of_reviews</th>\n",
       "      <th>last_review</th>\n",
       "      <th>reviews_per_month</th>\n",
       "      <th>calculated_host_listings_count</th>\n",
       "      <th>availability_365</th>\n",
       "    </tr>\n",
       "  </thead>\n",
       "  <tbody>\n",
       "    <tr>\n",
       "      <th>10981</th>\n",
       "      <td>8480087</td>\n",
       "      <td>West Side Studio Apartment</td>\n",
       "      <td>44660079</td>\n",
       "      <td>Leslie</td>\n",
       "      <td>Manhattan</td>\n",
       "      <td>Upper West Side</td>\n",
       "      <td>40.77875</td>\n",
       "      <td>-73.98750</td>\n",
       "      <td>Entire home/apt</td>\n",
       "      <td>165</td>\n",
       "      <td>5</td>\n",
       "      <td>25</td>\n",
       "      <td>2019-05-24</td>\n",
       "      <td>0.54</td>\n",
       "      <td>2</td>\n",
       "      <td>70</td>\n",
       "    </tr>\n",
       "    <tr>\n",
       "      <th>41638</th>\n",
       "      <td>32370730</td>\n",
       "      <td>CITY VIEWS LARGE APARTMENT</td>\n",
       "      <td>243037591</td>\n",
       "      <td>Maria</td>\n",
       "      <td>Manhattan</td>\n",
       "      <td>Flatiron District</td>\n",
       "      <td>40.74189</td>\n",
       "      <td>-73.99019</td>\n",
       "      <td>Entire home/apt</td>\n",
       "      <td>488</td>\n",
       "      <td>3</td>\n",
       "      <td>14</td>\n",
       "      <td>2019-07-02</td>\n",
       "      <td>3.65</td>\n",
       "      <td>1</td>\n",
       "      <td>76</td>\n",
       "    </tr>\n",
       "    <tr>\n",
       "      <th>8846</th>\n",
       "      <td>6784378</td>\n",
       "      <td>Large Room &amp; Own Bath by train</td>\n",
       "      <td>7788268</td>\n",
       "      <td>Marites</td>\n",
       "      <td>Brooklyn</td>\n",
       "      <td>Prospect-Lefferts Gardens</td>\n",
       "      <td>40.65894</td>\n",
       "      <td>-73.95947</td>\n",
       "      <td>Private room</td>\n",
       "      <td>75</td>\n",
       "      <td>2</td>\n",
       "      <td>10</td>\n",
       "      <td>2018-05-07</td>\n",
       "      <td>0.22</td>\n",
       "      <td>1</td>\n",
       "      <td>52</td>\n",
       "    </tr>\n",
       "    <tr>\n",
       "      <th>36480</th>\n",
       "      <td>28994671</td>\n",
       "      <td>한성 韓城 Han A (2FL)</td>\n",
       "      <td>92706260</td>\n",
       "      <td>Kane</td>\n",
       "      <td>Queens</td>\n",
       "      <td>Flushing</td>\n",
       "      <td>40.76126</td>\n",
       "      <td>-73.81549</td>\n",
       "      <td>Private room</td>\n",
       "      <td>48</td>\n",
       "      <td>1</td>\n",
       "      <td>35</td>\n",
       "      <td>2019-07-01</td>\n",
       "      <td>3.79</td>\n",
       "      <td>5</td>\n",
       "      <td>79</td>\n",
       "    </tr>\n",
       "    <tr>\n",
       "      <th>45557</th>\n",
       "      <td>34832415</td>\n",
       "      <td>Gay friendly</td>\n",
       "      <td>6503950</td>\n",
       "      <td>Rob</td>\n",
       "      <td>Brooklyn</td>\n",
       "      <td>Bushwick</td>\n",
       "      <td>40.69339</td>\n",
       "      <td>-73.90588</td>\n",
       "      <td>Private room</td>\n",
       "      <td>50</td>\n",
       "      <td>1</td>\n",
       "      <td>6</td>\n",
       "      <td>2019-06-30</td>\n",
       "      <td>4.74</td>\n",
       "      <td>2</td>\n",
       "      <td>311</td>\n",
       "    </tr>\n",
       "    <tr>\n",
       "      <th>14834</th>\n",
       "      <td>11751718</td>\n",
       "      <td>Modern 2 BR with high end Finishes</td>\n",
       "      <td>61391963</td>\n",
       "      <td>Corporate Housing</td>\n",
       "      <td>Manhattan</td>\n",
       "      <td>Kips Bay</td>\n",
       "      <td>40.74128</td>\n",
       "      <td>-73.98039</td>\n",
       "      <td>Entire home/apt</td>\n",
       "      <td>159</td>\n",
       "      <td>30</td>\n",
       "      <td>3</td>\n",
       "      <td>2019-03-01</td>\n",
       "      <td>0.11</td>\n",
       "      <td>91</td>\n",
       "      <td>310</td>\n",
       "    </tr>\n",
       "    <tr>\n",
       "      <th>32962</th>\n",
       "      <td>25998807</td>\n",
       "      <td>Great Private Room in Midtown, great Location!</td>\n",
       "      <td>193364875</td>\n",
       "      <td>Silva</td>\n",
       "      <td>Manhattan</td>\n",
       "      <td>Hell's Kitchen</td>\n",
       "      <td>40.76311</td>\n",
       "      <td>-73.98704</td>\n",
       "      <td>Private room</td>\n",
       "      <td>98</td>\n",
       "      <td>2</td>\n",
       "      <td>64</td>\n",
       "      <td>2019-07-05</td>\n",
       "      <td>5.65</td>\n",
       "      <td>1</td>\n",
       "      <td>54</td>\n",
       "    </tr>\n",
       "    <tr>\n",
       "      <th>37579</th>\n",
       "      <td>29806992</td>\n",
       "      <td>Luxurious townhouse, 2bd w/Loft+2bath+High-cei...</td>\n",
       "      <td>15058648</td>\n",
       "      <td>Shola</td>\n",
       "      <td>Brooklyn</td>\n",
       "      <td>Bushwick</td>\n",
       "      <td>40.69798</td>\n",
       "      <td>-73.92968</td>\n",
       "      <td>Entire home/apt</td>\n",
       "      <td>135</td>\n",
       "      <td>3</td>\n",
       "      <td>5</td>\n",
       "      <td>2019-07-03</td>\n",
       "      <td>0.71</td>\n",
       "      <td>3</td>\n",
       "      <td>17</td>\n",
       "    </tr>\n",
       "    <tr>\n",
       "      <th>15085</th>\n",
       "      <td>12034640</td>\n",
       "      <td>Comfortable 420 Friendly Room</td>\n",
       "      <td>64411228</td>\n",
       "      <td>Virginia</td>\n",
       "      <td>Brooklyn</td>\n",
       "      <td>Williamsburg</td>\n",
       "      <td>40.70922</td>\n",
       "      <td>-73.95232</td>\n",
       "      <td>Private room</td>\n",
       "      <td>64</td>\n",
       "      <td>1</td>\n",
       "      <td>25</td>\n",
       "      <td>2019-05-13</td>\n",
       "      <td>0.63</td>\n",
       "      <td>1</td>\n",
       "      <td>0</td>\n",
       "    </tr>\n",
       "    <tr>\n",
       "      <th>23798</th>\n",
       "      <td>19218475</td>\n",
       "      <td>Cozy Private Large Bed in Prime Chelsea</td>\n",
       "      <td>134510659</td>\n",
       "      <td>Josif</td>\n",
       "      <td>Manhattan</td>\n",
       "      <td>Chelsea</td>\n",
       "      <td>40.74319</td>\n",
       "      <td>-73.99636</td>\n",
       "      <td>Private room</td>\n",
       "      <td>90</td>\n",
       "      <td>14</td>\n",
       "      <td>0</td>\n",
       "      <td>NaN</td>\n",
       "      <td>NaN</td>\n",
       "      <td>1</td>\n",
       "      <td>0</td>\n",
       "    </tr>\n",
       "  </tbody>\n",
       "</table>\n",
       "</div>"
      ],
      "text/plain": [
       "             id                                               name    host_id  \\\n",
       "10981   8480087                         West Side Studio Apartment   44660079   \n",
       "41638  32370730                         CITY VIEWS LARGE APARTMENT  243037591   \n",
       "8846    6784378                     Large Room & Own Bath by train    7788268   \n",
       "36480  28994671                                  한성 韓城 Han A (2FL)   92706260   \n",
       "45557  34832415                                       Gay friendly    6503950   \n",
       "14834  11751718                 Modern 2 BR with high end Finishes   61391963   \n",
       "32962  25998807     Great Private Room in Midtown, great Location!  193364875   \n",
       "37579  29806992  Luxurious townhouse, 2bd w/Loft+2bath+High-cei...   15058648   \n",
       "15085  12034640                      Comfortable 420 Friendly Room   64411228   \n",
       "23798  19218475            Cozy Private Large Bed in Prime Chelsea  134510659   \n",
       "\n",
       "               host_name neighbourhood_group              neighbourhood  \\\n",
       "10981             Leslie           Manhattan            Upper West Side   \n",
       "41638              Maria           Manhattan          Flatiron District   \n",
       "8846             Marites            Brooklyn  Prospect-Lefferts Gardens   \n",
       "36480               Kane              Queens                   Flushing   \n",
       "45557                Rob            Brooklyn                   Bushwick   \n",
       "14834  Corporate Housing           Manhattan                   Kips Bay   \n",
       "32962              Silva           Manhattan             Hell's Kitchen   \n",
       "37579              Shola            Brooklyn                   Bushwick   \n",
       "15085           Virginia            Brooklyn               Williamsburg   \n",
       "23798              Josif           Manhattan                    Chelsea   \n",
       "\n",
       "       latitude  longitude        room_type  price  minimum_nights  \\\n",
       "10981  40.77875  -73.98750  Entire home/apt    165               5   \n",
       "41638  40.74189  -73.99019  Entire home/apt    488               3   \n",
       "8846   40.65894  -73.95947     Private room     75               2   \n",
       "36480  40.76126  -73.81549     Private room     48               1   \n",
       "45557  40.69339  -73.90588     Private room     50               1   \n",
       "14834  40.74128  -73.98039  Entire home/apt    159              30   \n",
       "32962  40.76311  -73.98704     Private room     98               2   \n",
       "37579  40.69798  -73.92968  Entire home/apt    135               3   \n",
       "15085  40.70922  -73.95232     Private room     64               1   \n",
       "23798  40.74319  -73.99636     Private room     90              14   \n",
       "\n",
       "       number_of_reviews last_review  reviews_per_month  \\\n",
       "10981                 25  2019-05-24               0.54   \n",
       "41638                 14  2019-07-02               3.65   \n",
       "8846                  10  2018-05-07               0.22   \n",
       "36480                 35  2019-07-01               3.79   \n",
       "45557                  6  2019-06-30               4.74   \n",
       "14834                  3  2019-03-01               0.11   \n",
       "32962                 64  2019-07-05               5.65   \n",
       "37579                  5  2019-07-03               0.71   \n",
       "15085                 25  2019-05-13               0.63   \n",
       "23798                  0         NaN                NaN   \n",
       "\n",
       "       calculated_host_listings_count  availability_365  \n",
       "10981                               2                70  \n",
       "41638                               1                76  \n",
       "8846                                1                52  \n",
       "36480                               5                79  \n",
       "45557                               2               311  \n",
       "14834                              91               310  \n",
       "32962                               1                54  \n",
       "37579                               3                17  \n",
       "15085                               1                 0  \n",
       "23798                               1                 0  "
      ]
     },
     "execution_count": 146,
     "metadata": {},
     "output_type": "execute_result"
    }
   ],
   "source": [
    "df2.sample(10)"
   ]
  },
  {
   "cell_type": "code",
   "execution_count": 148,
   "id": "c3fe8b90-cb0f-4730-88a3-c564eb1acc33",
   "metadata": {
    "tags": []
   },
   "outputs": [
    {
     "data": {
      "text/plain": [
       "count    48183.000000\n",
       "mean       148.772036\n",
       "std        153.594795\n",
       "min         31.000000\n",
       "25%         70.000000\n",
       "50%        110.000000\n",
       "75%        179.000000\n",
       "max       2999.000000\n",
       "Name: price, dtype: float64"
      ]
     },
     "execution_count": 148,
     "metadata": {},
     "output_type": "execute_result"
    }
   ],
   "source": [
    "df2.price.describe()"
   ]
  },
  {
   "cell_type": "markdown",
   "id": "dc4148e9-b7e4-4264-bda3-8da1bbfc0b79",
   "metadata": {},
   "source": [
    "References: \n",
    "\n",
    "https://github.com/codebasics/math-for-machine-learning/blob/main/4_mean_percentile/Exercise/exercise.md\n",
    "\n",
    "https://github.com/codebasics/math-for-machine-learning/blob/main/4_mean_percentile/median_percentile.ipynb\n",
    "\n",
    "https://www.kaggle.com/datasets/dgomonov/new-york-city-airbnb-open-data/data"
   ]
  }
 ],
 "metadata": {
  "kernelspec": {
   "display_name": "Python 3 (ipykernel)",
   "language": "python",
   "name": "python3"
  },
  "language_info": {
   "codemirror_mode": {
    "name": "ipython",
    "version": 3
   },
   "file_extension": ".py",
   "mimetype": "text/x-python",
   "name": "python",
   "nbconvert_exporter": "python",
   "pygments_lexer": "ipython3",
   "version": "3.11.5"
  }
 },
 "nbformat": 4,
 "nbformat_minor": 5
}
